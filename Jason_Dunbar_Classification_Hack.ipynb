{
  "nbformat": 4,
  "nbformat_minor": 0,
  "metadata": {
    "colab": {
      "name": "Jason_Dunbar_Classification_Hack.ipynb",
      "provenance": [],
      "authorship_tag": "ABX9TyOkheEGOx4yoZ/DRsx2tJwn",
      "include_colab_link": true
    },
    "kernelspec": {
      "display_name": "Python 3",
      "name": "python3"
    },
    "language_info": {
      "name": "python"
    }
  },
  "cells": [
    {
      "cell_type": "markdown",
      "metadata": {
        "id": "view-in-github",
        "colab_type": "text"
      },
      "source": [
        "<a href=\"https://colab.research.google.com/github/JasonAlexanderDunbar/classification-predict-streamlit-template/blob/master/Jason_Dunbar_Classification_Hack.ipynb\" target=\"_parent\"><img src=\"https://colab.research.google.com/assets/colab-badge.svg\" alt=\"Open In Colab\"/></a>"
      ]
    },
    {
      "cell_type": "code",
      "metadata": {
        "id": "BegMjAFcsL1H"
      },
      "source": [
        ""
      ],
      "execution_count": null,
      "outputs": []
    },
    {
      "cell_type": "markdown",
      "metadata": {
        "id": "QCwkgzOCsn7_"
      },
      "source": [
        "# **EDSA CLASSIFICATION HACK - USE VARIOUS NLP TECHNIQUES TO IDENTIFY A TEXT DOCUMENT AS ONE OF SOUTH AFRICA'S OFFICIAL LANGUAGES**"
      ]
    },
    {
      "cell_type": "markdown",
      "metadata": {
        "id": "ij_r-xRcsoEp"
      },
      "source": [
        "# PACKAGE IMPORTS"
      ]
    },
    {
      "cell_type": "code",
      "metadata": {
        "id": "3B2uJoNUtr6I"
      },
      "source": [
        "import numpy as np\n",
        "import pandas as pd\n",
        "import matplotlib.pyplot as plt\n",
        "%matplotlib inline\n",
        "\n",
        "import nltk\n",
        "import re\n",
        "from string import punctuation\n",
        "\n",
        "from sklearn.feature_extraction.text import CountVectorizer\n",
        "from sklearn.model_selection import train_test_split\n",
        "from sklearn.linear_model import LogisticRegression\n",
        "from sklearn.preprocessing import LabelEncoder\n",
        "from sklearn.metrics import accuracy_score\n",
        "from sklearn.metrics import confusion_matrix\n",
        "from sklearn.metrics import classification_report\n",
        "from sklearn import metrics\n",
        "from sklearn.tree import DecisionTreeClassifier\n",
        "from sklearn.ensemble import RandomForestClassifier\n",
        "from sklearn.svm import SVC\n",
        "from sklearn.ensemble import GradientBoostingClassifier"
      ],
      "execution_count": 1,
      "outputs": []
    },
    {
      "cell_type": "markdown",
      "metadata": {
        "id": "jYXrjqi8soIt"
      },
      "source": [
        "# DATA IMPORTS"
      ]
    },
    {
      "cell_type": "code",
      "metadata": {
        "id": "T1mkbJNHvUP-"
      },
      "source": [
        "df_train = pd.read_csv('train_set.csv')\n",
        "df_test = pd.read_csv('test_set.csv')"
      ],
      "execution_count": 2,
      "outputs": []
    },
    {
      "cell_type": "markdown",
      "metadata": {
        "id": "TxL5cdI0soMH"
      },
      "source": [
        "# INITIAL EXPLORATORY DATA ANALYSIS"
      ]
    },
    {
      "cell_type": "code",
      "metadata": {
        "colab": {
          "base_uri": "https://localhost:8080/",
          "height": 204
        },
        "id": "-zl_aIn7vr54",
        "outputId": "b9abbd38-daef-4c32-fd1e-c6c576dbfc16"
      },
      "source": [
        "df_train.head()"
      ],
      "execution_count": 3,
      "outputs": [
        {
          "output_type": "execute_result",
          "data": {
            "text/html": [
              "<div>\n",
              "<style scoped>\n",
              "    .dataframe tbody tr th:only-of-type {\n",
              "        vertical-align: middle;\n",
              "    }\n",
              "\n",
              "    .dataframe tbody tr th {\n",
              "        vertical-align: top;\n",
              "    }\n",
              "\n",
              "    .dataframe thead th {\n",
              "        text-align: right;\n",
              "    }\n",
              "</style>\n",
              "<table border=\"1\" class=\"dataframe\">\n",
              "  <thead>\n",
              "    <tr style=\"text-align: right;\">\n",
              "      <th></th>\n",
              "      <th>lang_id</th>\n",
              "      <th>text</th>\n",
              "    </tr>\n",
              "  </thead>\n",
              "  <tbody>\n",
              "    <tr>\n",
              "      <th>0</th>\n",
              "      <td>xho</td>\n",
              "      <td>umgaqo-siseko wenza amalungiselelo kumaziko ax...</td>\n",
              "    </tr>\n",
              "    <tr>\n",
              "      <th>1</th>\n",
              "      <td>xho</td>\n",
              "      <td>i-dha iya kuba nobulumko bokubeka umsebenzi na...</td>\n",
              "    </tr>\n",
              "    <tr>\n",
              "      <th>2</th>\n",
              "      <td>eng</td>\n",
              "      <td>the province of kwazulu-natal department of tr...</td>\n",
              "    </tr>\n",
              "    <tr>\n",
              "      <th>3</th>\n",
              "      <td>nso</td>\n",
              "      <td>o netefatša gore o ba file dilo ka moka tše le...</td>\n",
              "    </tr>\n",
              "    <tr>\n",
              "      <th>4</th>\n",
              "      <td>ven</td>\n",
              "      <td>khomishini ya ndinganyiso ya mbeu yo ewa maana...</td>\n",
              "    </tr>\n",
              "  </tbody>\n",
              "</table>\n",
              "</div>"
            ],
            "text/plain": [
              "  lang_id                                               text\n",
              "0     xho  umgaqo-siseko wenza amalungiselelo kumaziko ax...\n",
              "1     xho  i-dha iya kuba nobulumko bokubeka umsebenzi na...\n",
              "2     eng  the province of kwazulu-natal department of tr...\n",
              "3     nso  o netefatša gore o ba file dilo ka moka tše le...\n",
              "4     ven  khomishini ya ndinganyiso ya mbeu yo ewa maana..."
            ]
          },
          "metadata": {
            "tags": []
          },
          "execution_count": 3
        }
      ]
    },
    {
      "cell_type": "code",
      "metadata": {
        "colab": {
          "base_uri": "https://localhost:8080/"
        },
        "id": "6SjMl3UKvyQ6",
        "outputId": "ee9f0ef6-d99d-4e26-eb51-68f7e63b4e03"
      },
      "source": [
        "df_train.shape"
      ],
      "execution_count": 4,
      "outputs": [
        {
          "output_type": "execute_result",
          "data": {
            "text/plain": [
              "(33000, 2)"
            ]
          },
          "metadata": {
            "tags": []
          },
          "execution_count": 4
        }
      ]
    },
    {
      "cell_type": "code",
      "metadata": {
        "colab": {
          "base_uri": "https://localhost:8080/"
        },
        "id": "yI0JRdLl87qA",
        "outputId": "172ac8db-be3f-4706-fee7-f7f046275698"
      },
      "source": [
        "df_train.info()"
      ],
      "execution_count": 5,
      "outputs": [
        {
          "output_type": "stream",
          "text": [
            "<class 'pandas.core.frame.DataFrame'>\n",
            "RangeIndex: 33000 entries, 0 to 32999\n",
            "Data columns (total 2 columns):\n",
            " #   Column   Non-Null Count  Dtype \n",
            "---  ------   --------------  ----- \n",
            " 0   lang_id  33000 non-null  object\n",
            " 1   text     33000 non-null  object\n",
            "dtypes: object(2)\n",
            "memory usage: 515.8+ KB\n"
          ],
          "name": "stdout"
        }
      ]
    },
    {
      "cell_type": "code",
      "metadata": {
        "colab": {
          "base_uri": "https://localhost:8080/"
        },
        "id": "NBR6Unnxv257",
        "outputId": "e97ec2c2-8953-4f10-d81b-898e04160d56"
      },
      "source": [
        "df_train['lang_id'].value_counts()"
      ],
      "execution_count": 6,
      "outputs": [
        {
          "output_type": "execute_result",
          "data": {
            "text/plain": [
              "zul    3000\n",
              "sot    3000\n",
              "eng    3000\n",
              "ssw    3000\n",
              "ven    3000\n",
              "xho    3000\n",
              "tsn    3000\n",
              "tso    3000\n",
              "afr    3000\n",
              "nso    3000\n",
              "nbl    3000\n",
              "Name: lang_id, dtype: int64"
            ]
          },
          "metadata": {
            "tags": []
          },
          "execution_count": 6
        }
      ]
    },
    {
      "cell_type": "code",
      "metadata": {
        "colab": {
          "base_uri": "https://localhost:8080/",
          "height": 419
        },
        "id": "AEc453F6D7gN",
        "outputId": "8783b866-ab9f-46c2-e232-c4ad7c629e20"
      },
      "source": [
        "df_test.reset_index()"
      ],
      "execution_count": 7,
      "outputs": [
        {
          "output_type": "execute_result",
          "data": {
            "text/html": [
              "<div>\n",
              "<style scoped>\n",
              "    .dataframe tbody tr th:only-of-type {\n",
              "        vertical-align: middle;\n",
              "    }\n",
              "\n",
              "    .dataframe tbody tr th {\n",
              "        vertical-align: top;\n",
              "    }\n",
              "\n",
              "    .dataframe thead th {\n",
              "        text-align: right;\n",
              "    }\n",
              "</style>\n",
              "<table border=\"1\" class=\"dataframe\">\n",
              "  <thead>\n",
              "    <tr style=\"text-align: right;\">\n",
              "      <th></th>\n",
              "      <th>level_0</th>\n",
              "      <th>index</th>\n",
              "      <th>text</th>\n",
              "    </tr>\n",
              "  </thead>\n",
              "  <tbody>\n",
              "    <tr>\n",
              "      <th>0</th>\n",
              "      <td>0</td>\n",
              "      <td>1</td>\n",
              "      <td>Mmasepala, fa maemo a a kgethegileng a letlele...</td>\n",
              "    </tr>\n",
              "    <tr>\n",
              "      <th>1</th>\n",
              "      <td>1</td>\n",
              "      <td>2</td>\n",
              "      <td>Uzakwaziswa ngokufaneleko nakungafuneka eminye...</td>\n",
              "    </tr>\n",
              "    <tr>\n",
              "      <th>2</th>\n",
              "      <td>2</td>\n",
              "      <td>3</td>\n",
              "      <td>Tshivhumbeo tshi fana na ngano dza vhathu.</td>\n",
              "    </tr>\n",
              "    <tr>\n",
              "      <th>3</th>\n",
              "      <td>3</td>\n",
              "      <td>4</td>\n",
              "      <td>Kube inja nelikati betingevakala kutsi titsini...</td>\n",
              "    </tr>\n",
              "    <tr>\n",
              "      <th>4</th>\n",
              "      <td>4</td>\n",
              "      <td>5</td>\n",
              "      <td>Winste op buitelandse valuta.</td>\n",
              "    </tr>\n",
              "    <tr>\n",
              "      <th>...</th>\n",
              "      <td>...</td>\n",
              "      <td>...</td>\n",
              "      <td>...</td>\n",
              "    </tr>\n",
              "    <tr>\n",
              "      <th>5677</th>\n",
              "      <td>5677</td>\n",
              "      <td>5678</td>\n",
              "      <td>You mark your ballot in private.</td>\n",
              "    </tr>\n",
              "    <tr>\n",
              "      <th>5678</th>\n",
              "      <td>5678</td>\n",
              "      <td>5679</td>\n",
              "      <td>Ge o ka kgetha ka bowena go se šomiše Mofani k...</td>\n",
              "    </tr>\n",
              "    <tr>\n",
              "      <th>5679</th>\n",
              "      <td>5679</td>\n",
              "      <td>5680</td>\n",
              "      <td>E Ka kopo etsa kgetho ya hao ka hloko, hobane ...</td>\n",
              "    </tr>\n",
              "    <tr>\n",
              "      <th>5680</th>\n",
              "      <td>5680</td>\n",
              "      <td>5681</td>\n",
              "      <td>TB ke bokudi ba PMB, mme Morero o tla lefella ...</td>\n",
              "    </tr>\n",
              "    <tr>\n",
              "      <th>5681</th>\n",
              "      <td>5681</td>\n",
              "      <td>5682</td>\n",
              "      <td>Vakatjhela iwebhusayidi yethu ku-www.</td>\n",
              "    </tr>\n",
              "  </tbody>\n",
              "</table>\n",
              "<p>5682 rows × 3 columns</p>\n",
              "</div>"
            ],
            "text/plain": [
              "      level_0  index                                               text\n",
              "0           0      1  Mmasepala, fa maemo a a kgethegileng a letlele...\n",
              "1           1      2  Uzakwaziswa ngokufaneleko nakungafuneka eminye...\n",
              "2           2      3         Tshivhumbeo tshi fana na ngano dza vhathu.\n",
              "3           3      4  Kube inja nelikati betingevakala kutsi titsini...\n",
              "4           4      5                      Winste op buitelandse valuta.\n",
              "...       ...    ...                                                ...\n",
              "5677     5677   5678                   You mark your ballot in private.\n",
              "5678     5678   5679  Ge o ka kgetha ka bowena go se šomiše Mofani k...\n",
              "5679     5679   5680  E Ka kopo etsa kgetho ya hao ka hloko, hobane ...\n",
              "5680     5680   5681  TB ke bokudi ba PMB, mme Morero o tla lefella ...\n",
              "5681     5681   5682              Vakatjhela iwebhusayidi yethu ku-www.\n",
              "\n",
              "[5682 rows x 3 columns]"
            ]
          },
          "metadata": {
            "tags": []
          },
          "execution_count": 7
        }
      ]
    },
    {
      "cell_type": "code",
      "metadata": {
        "colab": {
          "base_uri": "https://localhost:8080/"
        },
        "id": "dyiPFTw1EcQq",
        "outputId": "1fabffab-1a3c-4650-9f91-377d12b9b060"
      },
      "source": [
        "np.array(df_test.index)"
      ],
      "execution_count": 8,
      "outputs": [
        {
          "output_type": "execute_result",
          "data": {
            "text/plain": [
              "array([   0,    1,    2, ..., 5679, 5680, 5681])"
            ]
          },
          "metadata": {
            "tags": []
          },
          "execution_count": 8
        }
      ]
    },
    {
      "cell_type": "markdown",
      "metadata": {
        "id": "9nfbZ1k8soPC"
      },
      "source": [
        "# TEXT PRE-PROCESSING"
      ]
    },
    {
      "cell_type": "code",
      "metadata": {
        "id": "RaaPo072WbGJ"
      },
      "source": [
        "def no_capitals(df):\n",
        "    \n",
        "    df['no_capitals'] = df['text'].str.lower()\n",
        "    \n",
        "    return df\n",
        "\n"
      ],
      "execution_count": 9,
      "outputs": []
    },
    {
      "cell_type": "code",
      "metadata": {
        "colab": {
          "base_uri": "https://localhost:8080/",
          "height": 514
        },
        "id": "QUZ9bpSewvhN",
        "outputId": "c5ceb5aa-3253-4eeb-8892-9c7f15bfbef7"
      },
      "source": [
        "no_capitals(df_train).head(15)"
      ],
      "execution_count": 10,
      "outputs": [
        {
          "output_type": "execute_result",
          "data": {
            "text/html": [
              "<div>\n",
              "<style scoped>\n",
              "    .dataframe tbody tr th:only-of-type {\n",
              "        vertical-align: middle;\n",
              "    }\n",
              "\n",
              "    .dataframe tbody tr th {\n",
              "        vertical-align: top;\n",
              "    }\n",
              "\n",
              "    .dataframe thead th {\n",
              "        text-align: right;\n",
              "    }\n",
              "</style>\n",
              "<table border=\"1\" class=\"dataframe\">\n",
              "  <thead>\n",
              "    <tr style=\"text-align: right;\">\n",
              "      <th></th>\n",
              "      <th>lang_id</th>\n",
              "      <th>text</th>\n",
              "      <th>no_capitals</th>\n",
              "    </tr>\n",
              "  </thead>\n",
              "  <tbody>\n",
              "    <tr>\n",
              "      <th>0</th>\n",
              "      <td>xho</td>\n",
              "      <td>umgaqo-siseko wenza amalungiselelo kumaziko ax...</td>\n",
              "      <td>umgaqo-siseko wenza amalungiselelo kumaziko ax...</td>\n",
              "    </tr>\n",
              "    <tr>\n",
              "      <th>1</th>\n",
              "      <td>xho</td>\n",
              "      <td>i-dha iya kuba nobulumko bokubeka umsebenzi na...</td>\n",
              "      <td>i-dha iya kuba nobulumko bokubeka umsebenzi na...</td>\n",
              "    </tr>\n",
              "    <tr>\n",
              "      <th>2</th>\n",
              "      <td>eng</td>\n",
              "      <td>the province of kwazulu-natal department of tr...</td>\n",
              "      <td>the province of kwazulu-natal department of tr...</td>\n",
              "    </tr>\n",
              "    <tr>\n",
              "      <th>3</th>\n",
              "      <td>nso</td>\n",
              "      <td>o netefatša gore o ba file dilo ka moka tše le...</td>\n",
              "      <td>o netefatša gore o ba file dilo ka moka tše le...</td>\n",
              "    </tr>\n",
              "    <tr>\n",
              "      <th>4</th>\n",
              "      <td>ven</td>\n",
              "      <td>khomishini ya ndinganyiso ya mbeu yo ewa maana...</td>\n",
              "      <td>khomishini ya ndinganyiso ya mbeu yo ewa maana...</td>\n",
              "    </tr>\n",
              "    <tr>\n",
              "      <th>5</th>\n",
              "      <td>nso</td>\n",
              "      <td>dinyakišišo tše tša go dirwa gabedi ka ngwaga ...</td>\n",
              "      <td>dinyakišišo tše tša go dirwa gabedi ka ngwaga ...</td>\n",
              "    </tr>\n",
              "    <tr>\n",
              "      <th>6</th>\n",
              "      <td>tsn</td>\n",
              "      <td>kgetse nngwe le nngwe e e sa faposiwang mo tsh...</td>\n",
              "      <td>kgetse nngwe le nngwe e e sa faposiwang mo tsh...</td>\n",
              "    </tr>\n",
              "    <tr>\n",
              "      <th>7</th>\n",
              "      <td>ven</td>\n",
              "      <td>mbadelo dze dza laelwa dzi do kwama mahatulele...</td>\n",
              "      <td>mbadelo dze dza laelwa dzi do kwama mahatulele...</td>\n",
              "    </tr>\n",
              "    <tr>\n",
              "      <th>8</th>\n",
              "      <td>nso</td>\n",
              "      <td>maloko a dikhuduthamaga a ikarabela mongwe le ...</td>\n",
              "      <td>maloko a dikhuduthamaga a ikarabela mongwe le ...</td>\n",
              "    </tr>\n",
              "    <tr>\n",
              "      <th>9</th>\n",
              "      <td>tsn</td>\n",
              "      <td>fa le dirisiwa lebone le tshwanetse go bontsha...</td>\n",
              "      <td>fa le dirisiwa lebone le tshwanetse go bontsha...</td>\n",
              "    </tr>\n",
              "    <tr>\n",
              "      <th>10</th>\n",
              "      <td>nbl</td>\n",
              "      <td>lapho inarha yangeqadi ingenwe ngokungasimthet...</td>\n",
              "      <td>lapho inarha yangeqadi ingenwe ngokungasimthet...</td>\n",
              "    </tr>\n",
              "    <tr>\n",
              "      <th>11</th>\n",
              "      <td>ven</td>\n",
              "      <td>yo dovha hafhu ya khwaṱhisedza uri hu vhe na m...</td>\n",
              "      <td>yo dovha hafhu ya khwaṱhisedza uri hu vhe na m...</td>\n",
              "    </tr>\n",
              "    <tr>\n",
              "      <th>12</th>\n",
              "      <td>zul</td>\n",
              "      <td>i-tip-offs anonymous wusizo locingo oluzimele ...</td>\n",
              "      <td>i-tip-offs anonymous wusizo locingo oluzimele ...</td>\n",
              "    </tr>\n",
              "    <tr>\n",
              "      <th>13</th>\n",
              "      <td>ssw</td>\n",
              "      <td>tekulima lokufaka ekhatsi yonkhe imisebenti ye...</td>\n",
              "      <td>tekulima lokufaka ekhatsi yonkhe imisebenti ye...</td>\n",
              "    </tr>\n",
              "    <tr>\n",
              "      <th>14</th>\n",
              "      <td>zul</td>\n",
              "      <td>noma yiliphi ilungu lombutho wezokuvikela elin...</td>\n",
              "      <td>noma yiliphi ilungu lombutho wezokuvikela elin...</td>\n",
              "    </tr>\n",
              "  </tbody>\n",
              "</table>\n",
              "</div>"
            ],
            "text/plain": [
              "   lang_id  ...                                        no_capitals\n",
              "0      xho  ...  umgaqo-siseko wenza amalungiselelo kumaziko ax...\n",
              "1      xho  ...  i-dha iya kuba nobulumko bokubeka umsebenzi na...\n",
              "2      eng  ...  the province of kwazulu-natal department of tr...\n",
              "3      nso  ...  o netefatša gore o ba file dilo ka moka tše le...\n",
              "4      ven  ...  khomishini ya ndinganyiso ya mbeu yo ewa maana...\n",
              "5      nso  ...  dinyakišišo tše tša go dirwa gabedi ka ngwaga ...\n",
              "6      tsn  ...  kgetse nngwe le nngwe e e sa faposiwang mo tsh...\n",
              "7      ven  ...  mbadelo dze dza laelwa dzi do kwama mahatulele...\n",
              "8      nso  ...  maloko a dikhuduthamaga a ikarabela mongwe le ...\n",
              "9      tsn  ...  fa le dirisiwa lebone le tshwanetse go bontsha...\n",
              "10     nbl  ...  lapho inarha yangeqadi ingenwe ngokungasimthet...\n",
              "11     ven  ...  yo dovha hafhu ya khwaṱhisedza uri hu vhe na m...\n",
              "12     zul  ...  i-tip-offs anonymous wusizo locingo oluzimele ...\n",
              "13     ssw  ...  tekulima lokufaka ekhatsi yonkhe imisebenti ye...\n",
              "14     zul  ...  noma yiliphi ilungu lombutho wezokuvikela elin...\n",
              "\n",
              "[15 rows x 3 columns]"
            ]
          },
          "metadata": {
            "tags": []
          },
          "execution_count": 10
        }
      ]
    },
    {
      "cell_type": "code",
      "metadata": {
        "colab": {
          "base_uri": "https://localhost:8080/",
          "height": 419
        },
        "id": "aoloEA2Twatc",
        "outputId": "3e83f2dd-4c36-410b-a1c8-f92d44732316"
      },
      "source": [
        "no_capitals(df_test)"
      ],
      "execution_count": 11,
      "outputs": [
        {
          "output_type": "execute_result",
          "data": {
            "text/html": [
              "<div>\n",
              "<style scoped>\n",
              "    .dataframe tbody tr th:only-of-type {\n",
              "        vertical-align: middle;\n",
              "    }\n",
              "\n",
              "    .dataframe tbody tr th {\n",
              "        vertical-align: top;\n",
              "    }\n",
              "\n",
              "    .dataframe thead th {\n",
              "        text-align: right;\n",
              "    }\n",
              "</style>\n",
              "<table border=\"1\" class=\"dataframe\">\n",
              "  <thead>\n",
              "    <tr style=\"text-align: right;\">\n",
              "      <th></th>\n",
              "      <th>index</th>\n",
              "      <th>text</th>\n",
              "      <th>no_capitals</th>\n",
              "    </tr>\n",
              "  </thead>\n",
              "  <tbody>\n",
              "    <tr>\n",
              "      <th>0</th>\n",
              "      <td>1</td>\n",
              "      <td>Mmasepala, fa maemo a a kgethegileng a letlele...</td>\n",
              "      <td>mmasepala, fa maemo a a kgethegileng a letlele...</td>\n",
              "    </tr>\n",
              "    <tr>\n",
              "      <th>1</th>\n",
              "      <td>2</td>\n",
              "      <td>Uzakwaziswa ngokufaneleko nakungafuneka eminye...</td>\n",
              "      <td>uzakwaziswa ngokufaneleko nakungafuneka eminye...</td>\n",
              "    </tr>\n",
              "    <tr>\n",
              "      <th>2</th>\n",
              "      <td>3</td>\n",
              "      <td>Tshivhumbeo tshi fana na ngano dza vhathu.</td>\n",
              "      <td>tshivhumbeo tshi fana na ngano dza vhathu.</td>\n",
              "    </tr>\n",
              "    <tr>\n",
              "      <th>3</th>\n",
              "      <td>4</td>\n",
              "      <td>Kube inja nelikati betingevakala kutsi titsini...</td>\n",
              "      <td>kube inja nelikati betingevakala kutsi titsini...</td>\n",
              "    </tr>\n",
              "    <tr>\n",
              "      <th>4</th>\n",
              "      <td>5</td>\n",
              "      <td>Winste op buitelandse valuta.</td>\n",
              "      <td>winste op buitelandse valuta.</td>\n",
              "    </tr>\n",
              "    <tr>\n",
              "      <th>...</th>\n",
              "      <td>...</td>\n",
              "      <td>...</td>\n",
              "      <td>...</td>\n",
              "    </tr>\n",
              "    <tr>\n",
              "      <th>5677</th>\n",
              "      <td>5678</td>\n",
              "      <td>You mark your ballot in private.</td>\n",
              "      <td>you mark your ballot in private.</td>\n",
              "    </tr>\n",
              "    <tr>\n",
              "      <th>5678</th>\n",
              "      <td>5679</td>\n",
              "      <td>Ge o ka kgetha ka bowena go se šomiše Mofani k...</td>\n",
              "      <td>ge o ka kgetha ka bowena go se šomiše mofani k...</td>\n",
              "    </tr>\n",
              "    <tr>\n",
              "      <th>5679</th>\n",
              "      <td>5680</td>\n",
              "      <td>E Ka kopo etsa kgetho ya hao ka hloko, hobane ...</td>\n",
              "      <td>e ka kopo etsa kgetho ya hao ka hloko, hobane ...</td>\n",
              "    </tr>\n",
              "    <tr>\n",
              "      <th>5680</th>\n",
              "      <td>5681</td>\n",
              "      <td>TB ke bokudi ba PMB, mme Morero o tla lefella ...</td>\n",
              "      <td>tb ke bokudi ba pmb, mme morero o tla lefella ...</td>\n",
              "    </tr>\n",
              "    <tr>\n",
              "      <th>5681</th>\n",
              "      <td>5682</td>\n",
              "      <td>Vakatjhela iwebhusayidi yethu ku-www.</td>\n",
              "      <td>vakatjhela iwebhusayidi yethu ku-www.</td>\n",
              "    </tr>\n",
              "  </tbody>\n",
              "</table>\n",
              "<p>5682 rows × 3 columns</p>\n",
              "</div>"
            ],
            "text/plain": [
              "      index  ...                                        no_capitals\n",
              "0         1  ...  mmasepala, fa maemo a a kgethegileng a letlele...\n",
              "1         2  ...  uzakwaziswa ngokufaneleko nakungafuneka eminye...\n",
              "2         3  ...         tshivhumbeo tshi fana na ngano dza vhathu.\n",
              "3         4  ...  kube inja nelikati betingevakala kutsi titsini...\n",
              "4         5  ...                      winste op buitelandse valuta.\n",
              "...     ...  ...                                                ...\n",
              "5677   5678  ...                   you mark your ballot in private.\n",
              "5678   5679  ...  ge o ka kgetha ka bowena go se šomiše mofani k...\n",
              "5679   5680  ...  e ka kopo etsa kgetho ya hao ka hloko, hobane ...\n",
              "5680   5681  ...  tb ke bokudi ba pmb, mme morero o tla lefella ...\n",
              "5681   5682  ...              vakatjhela iwebhusayidi yethu ku-www.\n",
              "\n",
              "[5682 rows x 3 columns]"
            ]
          },
          "metadata": {
            "tags": []
          },
          "execution_count": 11
        }
      ]
    },
    {
      "cell_type": "code",
      "metadata": {
        "colab": {
          "base_uri": "https://localhost:8080/"
        },
        "id": "MjUxllEUxMxu",
        "outputId": "a353e08f-5f73-47e0-af4a-eb07bbce61af"
      },
      "source": [
        "print(punctuation)"
      ],
      "execution_count": 12,
      "outputs": [
        {
          "output_type": "stream",
          "text": [
            "!\"#$%&'()*+,-./:;<=>?@[\\]^_`{|}~\n"
          ],
          "name": "stdout"
        }
      ]
    },
    {
      "cell_type": "code",
      "metadata": {
        "id": "ew3u2KbGWbGL"
      },
      "source": [
        "def remove_punctuation(text_data):\n",
        "    return ''.join([l for l in text_data if l not in punctuation])"
      ],
      "execution_count": 13,
      "outputs": []
    },
    {
      "cell_type": "code",
      "metadata": {
        "colab": {
          "base_uri": "https://localhost:8080/",
          "height": 514
        },
        "id": "6BYzHkmLxQzF",
        "outputId": "5eb4f384-4a8b-4133-bf8f-508c2e73177e"
      },
      "source": [
        "df_train['no_punctuation'] = df_train['no_capitals'].apply(remove_punctuation)\n",
        "df_train.head(15)"
      ],
      "execution_count": 14,
      "outputs": [
        {
          "output_type": "execute_result",
          "data": {
            "text/html": [
              "<div>\n",
              "<style scoped>\n",
              "    .dataframe tbody tr th:only-of-type {\n",
              "        vertical-align: middle;\n",
              "    }\n",
              "\n",
              "    .dataframe tbody tr th {\n",
              "        vertical-align: top;\n",
              "    }\n",
              "\n",
              "    .dataframe thead th {\n",
              "        text-align: right;\n",
              "    }\n",
              "</style>\n",
              "<table border=\"1\" class=\"dataframe\">\n",
              "  <thead>\n",
              "    <tr style=\"text-align: right;\">\n",
              "      <th></th>\n",
              "      <th>lang_id</th>\n",
              "      <th>text</th>\n",
              "      <th>no_capitals</th>\n",
              "      <th>no_punctuation</th>\n",
              "    </tr>\n",
              "  </thead>\n",
              "  <tbody>\n",
              "    <tr>\n",
              "      <th>0</th>\n",
              "      <td>xho</td>\n",
              "      <td>umgaqo-siseko wenza amalungiselelo kumaziko ax...</td>\n",
              "      <td>umgaqo-siseko wenza amalungiselelo kumaziko ax...</td>\n",
              "      <td>umgaqosiseko wenza amalungiselelo kumaziko axh...</td>\n",
              "    </tr>\n",
              "    <tr>\n",
              "      <th>1</th>\n",
              "      <td>xho</td>\n",
              "      <td>i-dha iya kuba nobulumko bokubeka umsebenzi na...</td>\n",
              "      <td>i-dha iya kuba nobulumko bokubeka umsebenzi na...</td>\n",
              "      <td>idha iya kuba nobulumko bokubeka umsebenzi nap...</td>\n",
              "    </tr>\n",
              "    <tr>\n",
              "      <th>2</th>\n",
              "      <td>eng</td>\n",
              "      <td>the province of kwazulu-natal department of tr...</td>\n",
              "      <td>the province of kwazulu-natal department of tr...</td>\n",
              "      <td>the province of kwazulunatal department of tra...</td>\n",
              "    </tr>\n",
              "    <tr>\n",
              "      <th>3</th>\n",
              "      <td>nso</td>\n",
              "      <td>o netefatša gore o ba file dilo ka moka tše le...</td>\n",
              "      <td>o netefatša gore o ba file dilo ka moka tše le...</td>\n",
              "      <td>o netefatša gore o ba file dilo ka moka tše le...</td>\n",
              "    </tr>\n",
              "    <tr>\n",
              "      <th>4</th>\n",
              "      <td>ven</td>\n",
              "      <td>khomishini ya ndinganyiso ya mbeu yo ewa maana...</td>\n",
              "      <td>khomishini ya ndinganyiso ya mbeu yo ewa maana...</td>\n",
              "      <td>khomishini ya ndinganyiso ya mbeu yo ewa maana...</td>\n",
              "    </tr>\n",
              "    <tr>\n",
              "      <th>5</th>\n",
              "      <td>nso</td>\n",
              "      <td>dinyakišišo tše tša go dirwa gabedi ka ngwaga ...</td>\n",
              "      <td>dinyakišišo tše tša go dirwa gabedi ka ngwaga ...</td>\n",
              "      <td>dinyakišišo tše tša go dirwa gabedi ka ngwaga ...</td>\n",
              "    </tr>\n",
              "    <tr>\n",
              "      <th>6</th>\n",
              "      <td>tsn</td>\n",
              "      <td>kgetse nngwe le nngwe e e sa faposiwang mo tsh...</td>\n",
              "      <td>kgetse nngwe le nngwe e e sa faposiwang mo tsh...</td>\n",
              "      <td>kgetse nngwe le nngwe e e sa faposiwang mo tsh...</td>\n",
              "    </tr>\n",
              "    <tr>\n",
              "      <th>7</th>\n",
              "      <td>ven</td>\n",
              "      <td>mbadelo dze dza laelwa dzi do kwama mahatulele...</td>\n",
              "      <td>mbadelo dze dza laelwa dzi do kwama mahatulele...</td>\n",
              "      <td>mbadelo dze dza laelwa dzi do kwama mahatulele...</td>\n",
              "    </tr>\n",
              "    <tr>\n",
              "      <th>8</th>\n",
              "      <td>nso</td>\n",
              "      <td>maloko a dikhuduthamaga a ikarabela mongwe le ...</td>\n",
              "      <td>maloko a dikhuduthamaga a ikarabela mongwe le ...</td>\n",
              "      <td>maloko a dikhuduthamaga a ikarabela mongwe le ...</td>\n",
              "    </tr>\n",
              "    <tr>\n",
              "      <th>9</th>\n",
              "      <td>tsn</td>\n",
              "      <td>fa le dirisiwa lebone le tshwanetse go bontsha...</td>\n",
              "      <td>fa le dirisiwa lebone le tshwanetse go bontsha...</td>\n",
              "      <td>fa le dirisiwa lebone le tshwanetse go bontsha...</td>\n",
              "    </tr>\n",
              "    <tr>\n",
              "      <th>10</th>\n",
              "      <td>nbl</td>\n",
              "      <td>lapho inarha yangeqadi ingenwe ngokungasimthet...</td>\n",
              "      <td>lapho inarha yangeqadi ingenwe ngokungasimthet...</td>\n",
              "      <td>lapho inarha yangeqadi ingenwe ngokungasimthet...</td>\n",
              "    </tr>\n",
              "    <tr>\n",
              "      <th>11</th>\n",
              "      <td>ven</td>\n",
              "      <td>yo dovha hafhu ya khwaṱhisedza uri hu vhe na m...</td>\n",
              "      <td>yo dovha hafhu ya khwaṱhisedza uri hu vhe na m...</td>\n",
              "      <td>yo dovha hafhu ya khwaṱhisedza uri hu vhe na m...</td>\n",
              "    </tr>\n",
              "    <tr>\n",
              "      <th>12</th>\n",
              "      <td>zul</td>\n",
              "      <td>i-tip-offs anonymous wusizo locingo oluzimele ...</td>\n",
              "      <td>i-tip-offs anonymous wusizo locingo oluzimele ...</td>\n",
              "      <td>itipoffs anonymous wusizo locingo oluzimele fu...</td>\n",
              "    </tr>\n",
              "    <tr>\n",
              "      <th>13</th>\n",
              "      <td>ssw</td>\n",
              "      <td>tekulima lokufaka ekhatsi yonkhe imisebenti ye...</td>\n",
              "      <td>tekulima lokufaka ekhatsi yonkhe imisebenti ye...</td>\n",
              "      <td>tekulima lokufaka ekhatsi yonkhe imisebenti ye...</td>\n",
              "    </tr>\n",
              "    <tr>\n",
              "      <th>14</th>\n",
              "      <td>zul</td>\n",
              "      <td>noma yiliphi ilungu lombutho wezokuvikela elin...</td>\n",
              "      <td>noma yiliphi ilungu lombutho wezokuvikela elin...</td>\n",
              "      <td>noma yiliphi ilungu lombutho wezokuvikela elin...</td>\n",
              "    </tr>\n",
              "  </tbody>\n",
              "</table>\n",
              "</div>"
            ],
            "text/plain": [
              "   lang_id  ...                                     no_punctuation\n",
              "0      xho  ...  umgaqosiseko wenza amalungiselelo kumaziko axh...\n",
              "1      xho  ...  idha iya kuba nobulumko bokubeka umsebenzi nap...\n",
              "2      eng  ...  the province of kwazulunatal department of tra...\n",
              "3      nso  ...  o netefatša gore o ba file dilo ka moka tše le...\n",
              "4      ven  ...  khomishini ya ndinganyiso ya mbeu yo ewa maana...\n",
              "5      nso  ...  dinyakišišo tše tša go dirwa gabedi ka ngwaga ...\n",
              "6      tsn  ...  kgetse nngwe le nngwe e e sa faposiwang mo tsh...\n",
              "7      ven  ...  mbadelo dze dza laelwa dzi do kwama mahatulele...\n",
              "8      nso  ...  maloko a dikhuduthamaga a ikarabela mongwe le ...\n",
              "9      tsn  ...  fa le dirisiwa lebone le tshwanetse go bontsha...\n",
              "10     nbl  ...  lapho inarha yangeqadi ingenwe ngokungasimthet...\n",
              "11     ven  ...  yo dovha hafhu ya khwaṱhisedza uri hu vhe na m...\n",
              "12     zul  ...  itipoffs anonymous wusizo locingo oluzimele fu...\n",
              "13     ssw  ...  tekulima lokufaka ekhatsi yonkhe imisebenti ye...\n",
              "14     zul  ...  noma yiliphi ilungu lombutho wezokuvikela elin...\n",
              "\n",
              "[15 rows x 4 columns]"
            ]
          },
          "metadata": {
            "tags": []
          },
          "execution_count": 14
        }
      ]
    },
    {
      "cell_type": "code",
      "metadata": {
        "id": "MthHhitPxQ6O"
      },
      "source": [
        "df_test['no_punctuation'] = df_test['no_capitals'].apply(remove_punctuation)"
      ],
      "execution_count": 15,
      "outputs": []
    },
    {
      "cell_type": "markdown",
      "metadata": {
        "id": "ZgcPLtzisoSO"
      },
      "source": [
        "# INITIAL MACHINE LEARNING MODELIING"
      ]
    },
    {
      "cell_type": "code",
      "metadata": {
        "id": "HebTAQkyypar"
      },
      "source": [
        "vect = CountVectorizer(max_features=2000)"
      ],
      "execution_count": 16,
      "outputs": []
    },
    {
      "cell_type": "code",
      "metadata": {
        "id": "2WCTKJh9zlZV"
      },
      "source": [
        "X = vect.fit_transform(df_train['no_punctuation']).toarray()"
      ],
      "execution_count": 17,
      "outputs": []
    },
    {
      "cell_type": "code",
      "metadata": {
        "colab": {
          "base_uri": "https://localhost:8080/"
        },
        "id": "k9QrcYIUSytk",
        "outputId": "f4298bd6-4d20-42c0-edfe-1caa28d07545"
      },
      "source": [
        "X"
      ],
      "execution_count": null,
      "outputs": [
        {
          "output_type": "execute_result",
          "data": {
            "text/plain": [
              "array([[0, 0, 0, ..., 0, 0, 0],\n",
              "       [0, 0, 0, ..., 0, 0, 0],\n",
              "       [0, 0, 0, ..., 0, 0, 0],\n",
              "       ...,\n",
              "       [0, 0, 0, ..., 0, 0, 0],\n",
              "       [0, 0, 0, ..., 0, 0, 0],\n",
              "       [0, 0, 0, ..., 0, 0, 0]])"
            ]
          },
          "metadata": {
            "tags": []
          },
          "execution_count": 53
        }
      ]
    },
    {
      "cell_type": "code",
      "metadata": {
        "id": "MDEcZ6bX1_75"
      },
      "source": [
        "le = LabelEncoder()"
      ],
      "execution_count": 18,
      "outputs": []
    },
    {
      "cell_type": "code",
      "metadata": {
        "colab": {
          "base_uri": "https://localhost:8080/"
        },
        "id": "jUa-zyUTH2v5",
        "outputId": "90a044f6-5f6c-4d9b-c83e-0fd348abc707"
      },
      "source": [
        "df_train['lang_id']"
      ],
      "execution_count": null,
      "outputs": [
        {
          "output_type": "execute_result",
          "data": {
            "text/plain": [
              "0        xho\n",
              "1        xho\n",
              "2        eng\n",
              "3        nso\n",
              "4        ven\n",
              "        ... \n",
              "32995    tsn\n",
              "32996    sot\n",
              "32997    eng\n",
              "32998    xho\n",
              "32999    sot\n",
              "Name: lang_id, Length: 33000, dtype: object"
            ]
          },
          "metadata": {
            "tags": []
          },
          "execution_count": 20
        }
      ]
    },
    {
      "cell_type": "code",
      "metadata": {
        "colab": {
          "base_uri": "https://localhost:8080/"
        },
        "id": "Q-gdrmD72CMR",
        "outputId": "fe014441-cd3d-49bc-823f-a0630e487a3f"
      },
      "source": [
        "y = le.fit_transform(df_train['lang_id'])\n",
        "\n",
        "y"
      ],
      "execution_count": 18,
      "outputs": [
        {
          "output_type": "execute_result",
          "data": {
            "text/plain": [
              "array([9, 9, 1, ..., 1, 9, 4])"
            ]
          },
          "metadata": {
            "tags": []
          },
          "execution_count": 18
        }
      ]
    },
    {
      "cell_type": "code",
      "metadata": {
        "id": "I--NI4236l4S",
        "colab": {
          "base_uri": "https://localhost:8080/",
          "height": 163
        },
        "outputId": "a0736ebc-108e-4428-fbdf-8114e9e9d32e"
      },
      "source": [
        "X_train, X_test, y_train, y_test = train_test_split(X, y, test_size=0.25, random_state=42)"
      ],
      "execution_count": 19,
      "outputs": [
        {
          "output_type": "error",
          "ename": "NameError",
          "evalue": "ignored",
          "traceback": [
            "\u001b[0;31m---------------------------------------------------------------------------\u001b[0m",
            "\u001b[0;31mNameError\u001b[0m                                 Traceback (most recent call last)",
            "\u001b[0;32m<ipython-input-19-73652973aa21>\u001b[0m in \u001b[0;36m<module>\u001b[0;34m()\u001b[0m\n\u001b[0;32m----> 1\u001b[0;31m \u001b[0mX_train\u001b[0m\u001b[0;34m,\u001b[0m \u001b[0mX_test\u001b[0m\u001b[0;34m,\u001b[0m \u001b[0my_train\u001b[0m\u001b[0;34m,\u001b[0m \u001b[0my_test\u001b[0m \u001b[0;34m=\u001b[0m \u001b[0mtrain_test_split\u001b[0m\u001b[0;34m(\u001b[0m\u001b[0mX\u001b[0m\u001b[0;34m,\u001b[0m \u001b[0my\u001b[0m\u001b[0;34m,\u001b[0m \u001b[0mtest_size\u001b[0m\u001b[0;34m=\u001b[0m\u001b[0;36m0.25\u001b[0m\u001b[0;34m,\u001b[0m \u001b[0mrandom_state\u001b[0m\u001b[0;34m=\u001b[0m\u001b[0;36m42\u001b[0m\u001b[0;34m)\u001b[0m\u001b[0;34m\u001b[0m\u001b[0;34m\u001b[0m\u001b[0m\n\u001b[0m",
            "\u001b[0;31mNameError\u001b[0m: name 'X' is not defined"
          ]
        }
      ]
    },
    {
      "cell_type": "code",
      "metadata": {
        "colab": {
          "base_uri": "https://localhost:8080/"
        },
        "id": "FL0DQMHf-LEW",
        "outputId": "ea3abe4c-309b-4370-da01-8dab3eb035e2"
      },
      "source": [
        "y_t_df  = pd.DataFrame(y_train)\n",
        "y_t_df.value_counts()"
      ],
      "execution_count": null,
      "outputs": [
        {
          "output_type": "execute_result",
          "data": {
            "text/plain": [
              "7     2300\n",
              "5     2268\n",
              "2     2266\n",
              "10    2265\n",
              "6     2254\n",
              "0     2246\n",
              "4     2241\n",
              "9     2239\n",
              "1     2238\n",
              "3     2218\n",
              "8     2215\n",
              "dtype: int64"
            ]
          },
          "metadata": {
            "tags": []
          },
          "execution_count": 58
        }
      ]
    },
    {
      "cell_type": "code",
      "metadata": {
        "colab": {
          "base_uri": "https://localhost:8080/"
        },
        "id": "4mYzUMel-pFl",
        "outputId": "cf1a56c0-48fc-4e24-d1f7-e569ab7c03b2"
      },
      "source": [
        "logreg = LogisticRegression(multi_class='ovr')\n",
        "logreg.fit(X_train, y_train)"
      ],
      "execution_count": null,
      "outputs": [
        {
          "output_type": "execute_result",
          "data": {
            "text/plain": [
              "LogisticRegression(C=1.0, class_weight=None, dual=False, fit_intercept=True,\n",
              "                   intercept_scaling=1, l1_ratio=None, max_iter=100,\n",
              "                   multi_class='ovr', n_jobs=None, penalty='l2',\n",
              "                   random_state=None, solver='lbfgs', tol=0.0001, verbose=0,\n",
              "                   warm_start=False)"
            ]
          },
          "metadata": {
            "tags": []
          },
          "execution_count": 59
        }
      ]
    },
    {
      "cell_type": "code",
      "metadata": {
        "id": "em4RJmRJ-5pE"
      },
      "source": [
        "y_pred = logreg.predict(X_test)"
      ],
      "execution_count": null,
      "outputs": []
    },
    {
      "cell_type": "code",
      "metadata": {
        "colab": {
          "base_uri": "https://localhost:8080/"
        },
        "id": "mXjfhYhF-9jF",
        "outputId": "b7149e38-e457-4ff9-922f-ba9e6875750f"
      },
      "source": [
        "accuracy_score(y_test, y_pred)"
      ],
      "execution_count": null,
      "outputs": [
        {
          "output_type": "execute_result",
          "data": {
            "text/plain": [
              "0.9798787878787879"
            ]
          },
          "metadata": {
            "tags": []
          },
          "execution_count": 61
        }
      ]
    },
    {
      "cell_type": "code",
      "metadata": {
        "colab": {
          "base_uri": "https://localhost:8080/"
        },
        "id": "xutX3mHg_z6M",
        "outputId": "c5257a0f-fe70-49dc-e1e7-e84d754e9928"
      },
      "source": [
        "print(classification_report(y_test, y_pred))"
      ],
      "execution_count": null,
      "outputs": [
        {
          "output_type": "stream",
          "text": [
            "              precision    recall  f1-score   support\n",
            "\n",
            "           0       1.00      1.00      1.00       754\n",
            "           1       1.00      1.00      1.00       762\n",
            "           2       0.95      0.95      0.95       734\n",
            "           3       1.00      0.99      1.00       782\n",
            "           4       1.00      1.00      1.00       759\n",
            "           5       0.96      0.96      0.96       732\n",
            "           6       1.00      1.00      1.00       746\n",
            "           7       1.00      1.00      1.00       700\n",
            "           8       1.00      1.00      1.00       785\n",
            "           9       0.95      0.95      0.95       761\n",
            "          10       0.93      0.93      0.93       735\n",
            "\n",
            "    accuracy                           0.98      8250\n",
            "   macro avg       0.98      0.98      0.98      8250\n",
            "weighted avg       0.98      0.98      0.98      8250\n",
            "\n"
          ],
          "name": "stdout"
        }
      ]
    },
    {
      "cell_type": "code",
      "metadata": {
        "id": "qOUzKFK7_85z"
      },
      "source": [
        ""
      ],
      "execution_count": null,
      "outputs": []
    },
    {
      "cell_type": "markdown",
      "metadata": {
        "id": "egoOdTL0_9ga"
      },
      "source": [
        "### using the above algorithm to make predictions of of the test dataset:"
      ]
    },
    {
      "cell_type": "code",
      "metadata": {
        "id": "SyqKv9SXAUKj"
      },
      "source": [
        "X_df_test = vect.fit_transform(df_test['no_punctuation']).toarray()"
      ],
      "execution_count": null,
      "outputs": []
    },
    {
      "cell_type": "code",
      "metadata": {
        "id": "WYdx7XWWAw0N"
      },
      "source": [
        "y_pred_test = logreg.predict(X_df_test)"
      ],
      "execution_count": null,
      "outputs": []
    },
    {
      "cell_type": "code",
      "metadata": {
        "id": "O0UFlxAtFdZA"
      },
      "source": [
        "y_pred_test = le.inverse_transform(y_pred_test)"
      ],
      "execution_count": null,
      "outputs": []
    },
    {
      "cell_type": "code",
      "metadata": {
        "colab": {
          "base_uri": "https://localhost:8080/"
        },
        "id": "nvUhyokiHOS4",
        "outputId": "a4b13ec8-7c37-4dad-c0a9-c622f93f0a2d"
      },
      "source": [
        "y_pred_test"
      ],
      "execution_count": null,
      "outputs": [
        {
          "output_type": "execute_result",
          "data": {
            "text/plain": [
              "array(['ssw', 'ssw', 'xho', ..., 'ssw', 'ssw', 'ssw'], dtype=object)"
            ]
          },
          "metadata": {
            "tags": []
          },
          "execution_count": 165
        }
      ]
    },
    {
      "cell_type": "code",
      "metadata": {
        "id": "VqQFy5ObA3GX"
      },
      "source": [
        "submission_hackathon = pd.DataFrame({\n",
        "    'index' : df_test['index'],\n",
        "    'lang_id' : y_pred_test\n",
        "})"
      ],
      "execution_count": null,
      "outputs": []
    },
    {
      "cell_type": "code",
      "metadata": {
        "id": "MSk5-deyBgWR"
      },
      "source": [
        "submission_hackathon.to_csv('submission_hackathon.csv', index=False)"
      ],
      "execution_count": null,
      "outputs": []
    },
    {
      "cell_type": "code",
      "metadata": {
        "colab": {
          "base_uri": "https://localhost:8080/",
          "height": 17
        },
        "id": "KE2nwahIBnGv",
        "outputId": "d6cfdf61-42a4-4223-88a0-b5dfc8d5b178"
      },
      "source": [
        "from google.colab import files\n",
        "\n",
        "files.download('submission_hackathon.csv')"
      ],
      "execution_count": null,
      "outputs": [
        {
          "output_type": "display_data",
          "data": {
            "application/javascript": [
              "\n",
              "    async function download(id, filename, size) {\n",
              "      if (!google.colab.kernel.accessAllowed) {\n",
              "        return;\n",
              "      }\n",
              "      const div = document.createElement('div');\n",
              "      const label = document.createElement('label');\n",
              "      label.textContent = `Downloading \"${filename}\": `;\n",
              "      div.appendChild(label);\n",
              "      const progress = document.createElement('progress');\n",
              "      progress.max = size;\n",
              "      div.appendChild(progress);\n",
              "      document.body.appendChild(div);\n",
              "\n",
              "      const buffers = [];\n",
              "      let downloaded = 0;\n",
              "\n",
              "      const channel = await google.colab.kernel.comms.open(id);\n",
              "      // Send a message to notify the kernel that we're ready.\n",
              "      channel.send({})\n",
              "\n",
              "      for await (const message of channel.messages) {\n",
              "        // Send a message to notify the kernel that we're ready.\n",
              "        channel.send({})\n",
              "        if (message.buffers) {\n",
              "          for (const buffer of message.buffers) {\n",
              "            buffers.push(buffer);\n",
              "            downloaded += buffer.byteLength;\n",
              "            progress.value = downloaded;\n",
              "          }\n",
              "        }\n",
              "      }\n",
              "      const blob = new Blob(buffers, {type: 'application/binary'});\n",
              "      const a = document.createElement('a');\n",
              "      a.href = window.URL.createObjectURL(blob);\n",
              "      a.download = filename;\n",
              "      div.appendChild(a);\n",
              "      a.click();\n",
              "      div.remove();\n",
              "    }\n",
              "  "
            ],
            "text/plain": [
              "<IPython.core.display.Javascript object>"
            ]
          },
          "metadata": {
            "tags": []
          }
        },
        {
          "output_type": "display_data",
          "data": {
            "application/javascript": [
              "download(\"download_e5a5afa2-5629-4d17-98fd-089e6a384a5a\", \"submission_hackathon.csv\", 50045)"
            ],
            "text/plain": [
              "<IPython.core.display.Javascript object>"
            ]
          },
          "metadata": {
            "tags": []
          }
        }
      ]
    },
    {
      "cell_type": "markdown",
      "metadata": {
        "id": "tI_y-UjyM6gt"
      },
      "source": [
        "### Naive Bayes algortithm"
      ]
    },
    {
      "cell_type": "code",
      "metadata": {
        "id": "yApVlM08M57s"
      },
      "source": [
        "from sklearn.naive_bayes import MultinomialNB\n",
        "\n",
        "model = MultinomialNB()"
      ],
      "execution_count": 19,
      "outputs": []
    },
    {
      "cell_type": "code",
      "metadata": {
        "id": "mpVByJ1gNcNb"
      },
      "source": [
        "vect = CountVectorizer(stop_words='english', max_features=19000, ngram_range=(1,3), max_df=0.5)"
      ],
      "execution_count": 20,
      "outputs": []
    },
    {
      "cell_type": "code",
      "metadata": {
        "id": "k8iyVHdAN9r-"
      },
      "source": [
        "X = vect.fit_transform(df_train['no_punctuation']).toarray()"
      ],
      "execution_count": 21,
      "outputs": []
    },
    {
      "cell_type": "code",
      "metadata": {
        "colab": {
          "base_uri": "https://localhost:8080/"
        },
        "id": "ijgCGk7wQYea",
        "outputId": "49f49b67-b331-4f59-bb8e-27a370922a91"
      },
      "source": [
        "df_train['lang_id']"
      ],
      "execution_count": 19,
      "outputs": [
        {
          "output_type": "execute_result",
          "data": {
            "text/plain": [
              "0        xho\n",
              "1        xho\n",
              "2        eng\n",
              "3        nso\n",
              "4        ven\n",
              "        ... \n",
              "32995    tsn\n",
              "32996    sot\n",
              "32997    eng\n",
              "32998    xho\n",
              "32999    sot\n",
              "Name: lang_id, Length: 33000, dtype: object"
            ]
          },
          "metadata": {
            "tags": []
          },
          "execution_count": 19
        }
      ]
    },
    {
      "cell_type": "code",
      "metadata": {
        "colab": {
          "base_uri": "https://localhost:8080/"
        },
        "id": "EdeBAS49OTA0",
        "outputId": "cbdb352e-b1f9-4d2b-9850-a970e5257580"
      },
      "source": [
        "y = le.fit_transform(df_train['lang_id'].values.astype(str))\n",
        "y"
      ],
      "execution_count": 22,
      "outputs": [
        {
          "output_type": "execute_result",
          "data": {
            "text/plain": [
              "array([9, 9, 1, ..., 1, 9, 4])"
            ]
          },
          "metadata": {
            "tags": []
          },
          "execution_count": 22
        }
      ]
    },
    {
      "cell_type": "code",
      "metadata": {
        "id": "PixSNDjXOZNM"
      },
      "source": [
        "X_train, X_test, y_train, y_test = train_test_split(X, y, test_size=0.25, random_state=27)"
      ],
      "execution_count": 23,
      "outputs": []
    },
    {
      "cell_type": "code",
      "metadata": {
        "colab": {
          "base_uri": "https://localhost:8080/"
        },
        "id": "99Zhv2GeOsoo",
        "outputId": "aa32d7ce-953a-4641-d152-ce57596b20d8"
      },
      "source": [
        "model.fit(X_train, y_train)"
      ],
      "execution_count": 24,
      "outputs": [
        {
          "output_type": "execute_result",
          "data": {
            "text/plain": [
              "MultinomialNB(alpha=1.0, class_prior=None, fit_prior=True)"
            ]
          },
          "metadata": {
            "tags": []
          },
          "execution_count": 24
        }
      ]
    },
    {
      "cell_type": "code",
      "metadata": {
        "id": "oXYUFideOz7h"
      },
      "source": [
        "y_pred = model.predict(X_test)"
      ],
      "execution_count": 25,
      "outputs": []
    },
    {
      "cell_type": "code",
      "metadata": {
        "colab": {
          "base_uri": "https://localhost:8080/"
        },
        "id": "3Bq_qRcMO3gq",
        "outputId": "880fc67f-93a1-4326-a880-bd4d20960dc5"
      },
      "source": [
        "accuracy_score(y_test, y_pred)"
      ],
      "execution_count": 26,
      "outputs": [
        {
          "output_type": "execute_result",
          "data": {
            "text/plain": [
              "0.9970909090909091"
            ]
          },
          "metadata": {
            "tags": []
          },
          "execution_count": 26
        }
      ]
    },
    {
      "cell_type": "code",
      "metadata": {
        "colab": {
          "base_uri": "https://localhost:8080/"
        },
        "id": "gb-ss7TNO7by",
        "outputId": "f576d18f-e6a4-46ff-ba62-aa09399336a3"
      },
      "source": [
        "print(classification_report(y_test, y_pred))"
      ],
      "execution_count": 27,
      "outputs": [
        {
          "output_type": "stream",
          "text": [
            "              precision    recall  f1-score   support\n",
            "\n",
            "           0       1.00      1.00      1.00       783\n",
            "           1       1.00      1.00      1.00       752\n",
            "           2       0.99      0.99      0.99       762\n",
            "           3       1.00      1.00      1.00       725\n",
            "           4       1.00      1.00      1.00       707\n",
            "           5       1.00      1.00      1.00       786\n",
            "           6       1.00      1.00      1.00       741\n",
            "           7       1.00      1.00      1.00       729\n",
            "           8       1.00      1.00      1.00       746\n",
            "           9       0.99      1.00      1.00       745\n",
            "          10       0.99      0.98      0.99       774\n",
            "\n",
            "    accuracy                           1.00      8250\n",
            "   macro avg       1.00      1.00      1.00      8250\n",
            "weighted avg       1.00      1.00      1.00      8250\n",
            "\n"
          ],
          "name": "stdout"
        }
      ]
    },
    {
      "cell_type": "code",
      "metadata": {
        "id": "AhL7bCOVPGv_"
      },
      "source": [
        "X_t = vect.transform(df_test['no_punctuation']).toarray()"
      ],
      "execution_count": 28,
      "outputs": []
    },
    {
      "cell_type": "code",
      "metadata": {
        "id": "NyFJs4ABPUp_"
      },
      "source": [
        "y_pred_test = model.predict(X_t)"
      ],
      "execution_count": 29,
      "outputs": []
    },
    {
      "cell_type": "code",
      "metadata": {
        "colab": {
          "base_uri": "https://localhost:8080/"
        },
        "id": "04bi53RyPYoW",
        "outputId": "3c65200f-53fb-41d2-d5ba-fd7b150bd20a"
      },
      "source": [
        "y_pred_test = le.inverse_transform(y_pred_test)\n",
        "y_pred_test"
      ],
      "execution_count": 30,
      "outputs": [
        {
          "output_type": "execute_result",
          "data": {
            "text/plain": [
              "array(['tsn', 'nbl', 'ven', ..., 'sot', 'sot', 'xho'], dtype='<U3')"
            ]
          },
          "metadata": {
            "tags": []
          },
          "execution_count": 30
        }
      ]
    },
    {
      "cell_type": "code",
      "metadata": {
        "id": "WFDeqqkyUlKI"
      },
      "source": [
        "submission_nayes = pd.DataFrame({\n",
        "    'index': df_test['index'],\n",
        "    'lang_id': y_pred_test\n",
        "})"
      ],
      "execution_count": 31,
      "outputs": []
    },
    {
      "cell_type": "code",
      "metadata": {
        "id": "GN8pgkZ3VChv"
      },
      "source": [
        "submission_nayes.to_csv('submission_nayes.csv', index=False)"
      ],
      "execution_count": 32,
      "outputs": []
    },
    {
      "cell_type": "code",
      "metadata": {
        "colab": {
          "base_uri": "https://localhost:8080/",
          "height": 17
        },
        "id": "2EYQ7__5VIEs",
        "outputId": "506bb36f-c5d7-42f9-8332-3e232390b541"
      },
      "source": [
        "from google.colab import files\n",
        "\n",
        "files.download('submission_nayes.csv')"
      ],
      "execution_count": 33,
      "outputs": [
        {
          "output_type": "display_data",
          "data": {
            "application/javascript": [
              "\n",
              "    async function download(id, filename, size) {\n",
              "      if (!google.colab.kernel.accessAllowed) {\n",
              "        return;\n",
              "      }\n",
              "      const div = document.createElement('div');\n",
              "      const label = document.createElement('label');\n",
              "      label.textContent = `Downloading \"${filename}\": `;\n",
              "      div.appendChild(label);\n",
              "      const progress = document.createElement('progress');\n",
              "      progress.max = size;\n",
              "      div.appendChild(progress);\n",
              "      document.body.appendChild(div);\n",
              "\n",
              "      const buffers = [];\n",
              "      let downloaded = 0;\n",
              "\n",
              "      const channel = await google.colab.kernel.comms.open(id);\n",
              "      // Send a message to notify the kernel that we're ready.\n",
              "      channel.send({})\n",
              "\n",
              "      for await (const message of channel.messages) {\n",
              "        // Send a message to notify the kernel that we're ready.\n",
              "        channel.send({})\n",
              "        if (message.buffers) {\n",
              "          for (const buffer of message.buffers) {\n",
              "            buffers.push(buffer);\n",
              "            downloaded += buffer.byteLength;\n",
              "            progress.value = downloaded;\n",
              "          }\n",
              "        }\n",
              "      }\n",
              "      const blob = new Blob(buffers, {type: 'application/binary'});\n",
              "      const a = document.createElement('a');\n",
              "      a.href = window.URL.createObjectURL(blob);\n",
              "      a.download = filename;\n",
              "      div.appendChild(a);\n",
              "      a.click();\n",
              "      div.remove();\n",
              "    }\n",
              "  "
            ],
            "text/plain": [
              "<IPython.core.display.Javascript object>"
            ]
          },
          "metadata": {
            "tags": []
          }
        },
        {
          "output_type": "display_data",
          "data": {
            "application/javascript": [
              "download(\"download_f7d5ef5a-9f72-451c-99af-b2c63b0270f4\", \"submission_nayes.csv\", 50045)"
            ],
            "text/plain": [
              "<IPython.core.display.Javascript object>"
            ]
          },
          "metadata": {
            "tags": []
          }
        }
      ]
    },
    {
      "cell_type": "markdown",
      "metadata": {
        "id": "CG3LFurNsoVJ"
      },
      "source": [
        "# ITERATIVE MACHINE LEARNING MODELLING\n"
      ]
    },
    {
      "cell_type": "code",
      "metadata": {
        "id": "jc9Tqt5sQ9Ki"
      },
      "source": [
        "vect = CountVectorizer(max_features=10000)"
      ],
      "execution_count": null,
      "outputs": []
    },
    {
      "cell_type": "code",
      "metadata": {
        "id": "MHUj6jO31RtT"
      },
      "source": [
        "X = vect.fit_transform(df_train['no_punctuation']).toarray()"
      ],
      "execution_count": null,
      "outputs": []
    },
    {
      "cell_type": "code",
      "metadata": {
        "id": "ulkVcDIb0wOE"
      },
      "source": [
        "le = LabelEncoder()"
      ],
      "execution_count": null,
      "outputs": []
    },
    {
      "cell_type": "code",
      "metadata": {
        "colab": {
          "base_uri": "https://localhost:8080/"
        },
        "id": "D-PEDIrb2ALy",
        "outputId": "4c1f57e1-9042-44b4-b968-ac79d0c5a20c"
      },
      "source": [
        "y = le.fit_transform(df_train['lang_id'])\n",
        "y"
      ],
      "execution_count": null,
      "outputs": [
        {
          "output_type": "execute_result",
          "data": {
            "text/plain": [
              "array([9, 9, 1, ..., 1, 9, 4])"
            ]
          },
          "metadata": {
            "tags": []
          },
          "execution_count": 22
        }
      ]
    },
    {
      "cell_type": "code",
      "metadata": {
        "id": "gWbIefAu2Hx-"
      },
      "source": [
        "X_train, X_test, y_train, y_test = train_test_split(X[: 20000], y[: 20000], test_size=0.25, random_state=42)"
      ],
      "execution_count": null,
      "outputs": []
    },
    {
      "cell_type": "code",
      "metadata": {
        "id": "CIP18iXagOTW"
      },
      "source": [
        "model_names = ['Logistic Regression', 'Decision Tree', 'Random Forest', 'Naive_Bayes', 'Gradient Boosting']\n",
        "\n",
        "classifiers = [\n",
        "               LogisticRegression(multi_class='ovr', solver='liblinear'),\n",
        "               DecisionTreeClassifier(max_depth=5),\n",
        "               RandomForestClassifier(max_depth=5, n_estimators=100, max_features=1),\n",
        "               MultinomialNB(),\n",
        "               GradientBoostingClassifier()\n",
        "]"
      ],
      "execution_count": null,
      "outputs": []
    },
    {
      "cell_type": "code",
      "metadata": {
        "colab": {
          "background_save": true,
          "base_uri": "https://localhost:8080/"
        },
        "id": "yDS6jA4iYDpo",
        "outputId": "d9a6e504-8a1b-43fa-ac22-d96d0c949239"
      },
      "source": [
        "results = []\n",
        "\n",
        "models = {}\n",
        "confusion = {}\n",
        "class_report = {}\n",
        "\n",
        "\n",
        "for name, clf in zip(model_names, classifiers):    \n",
        "    print ('Fitting {:s} model...'.format(name))\n",
        "    clf.fit(X_train, y_train)\n",
        "    \n",
        "    print ('... predicting')\n",
        "    y_pred = clf.predict(X_train)   \n",
        "    y_pred_test = clf.predict(X_test)\n",
        "    \n",
        "    print ('... scoring')\n",
        "    accuracy  = accuracy_score(y_train, y_pred)\n",
        "    precision = metrics.precision_score(y_train, y_pred, average='weighted')\n",
        "    recall    = metrics.recall_score(y_train, y_pred, average='weighted')\n",
        "    \n",
        "    f1        = metrics.f1_score(y_train, y_pred, average='weighted')    \n",
        "    f1_test   = metrics.f1_score(y_test, y_pred_test, average='weighted')    \n",
        "    \n",
        "    # Save the results to dictionaries\n",
        "    models[name] = clf    \n",
        "    confusion[name] = metrics.confusion_matrix(y_train, y_pred)\n",
        "    class_report[name] = metrics.classification_report(y_train, y_pred)\n",
        "    \n",
        "    results.append([name, accuracy, precision, recall, f1, f1_test])\n",
        "\n",
        "    \n",
        "results = pd.DataFrame(results, columns=['Classifier', 'Accuracy', 'Precision', 'Recall', 'F1 Train', 'F1 Test'])\n",
        "results.set_index('Classifier', inplace= True)\n",
        "\n",
        "print ('... All done!')"
      ],
      "execution_count": null,
      "outputs": [
        {
          "output_type": "stream",
          "text": [
            "Fitting Logistic Regression model...\n",
            "... predicting\n",
            "... scoring\n",
            "Fitting Decision Tree model...\n",
            "... predicting\n",
            "... scoring\n",
            "Fitting Random Forest model...\n"
          ],
          "name": "stdout"
        },
        {
          "output_type": "stream",
          "text": [
            "/usr/local/lib/python3.7/dist-packages/sklearn/metrics/_classification.py:1272: UndefinedMetricWarning: Precision is ill-defined and being set to 0.0 in labels with no predicted samples. Use `zero_division` parameter to control this behavior.\n",
            "  _warn_prf(average, modifier, msg_start, len(result))\n",
            "/usr/local/lib/python3.7/dist-packages/sklearn/metrics/_classification.py:1272: UndefinedMetricWarning: Precision and F-score are ill-defined and being set to 0.0 in labels with no predicted samples. Use `zero_division` parameter to control this behavior.\n",
            "  _warn_prf(average, modifier, msg_start, len(result))\n"
          ],
          "name": "stderr"
        },
        {
          "output_type": "stream",
          "text": [
            "... predicting\n",
            "... scoring\n",
            "Fitting Naive_Bayes model...\n",
            "... predicting\n",
            "... scoring\n",
            "Fitting Gradient Boosting model...\n",
            "... predicting\n",
            "... scoring\n",
            "... All done!\n"
          ],
          "name": "stdout"
        }
      ]
    },
    {
      "cell_type": "code",
      "metadata": {
        "colab": {
          "base_uri": "https://localhost:8080/",
          "height": 233
        },
        "id": "6aDeIJ0G7tkx",
        "outputId": "5d702538-17b9-466a-856a-ab87373f5b41"
      },
      "source": [
        "results"
      ],
      "execution_count": null,
      "outputs": [
        {
          "output_type": "execute_result",
          "data": {
            "text/html": [
              "<div>\n",
              "<style scoped>\n",
              "    .dataframe tbody tr th:only-of-type {\n",
              "        vertical-align: middle;\n",
              "    }\n",
              "\n",
              "    .dataframe tbody tr th {\n",
              "        vertical-align: top;\n",
              "    }\n",
              "\n",
              "    .dataframe thead th {\n",
              "        text-align: right;\n",
              "    }\n",
              "</style>\n",
              "<table border=\"1\" class=\"dataframe\">\n",
              "  <thead>\n",
              "    <tr style=\"text-align: right;\">\n",
              "      <th></th>\n",
              "      <th>Accuracy</th>\n",
              "      <th>Precision</th>\n",
              "      <th>Recall</th>\n",
              "      <th>F1 Train</th>\n",
              "      <th>F1 Test</th>\n",
              "    </tr>\n",
              "    <tr>\n",
              "      <th>Classifier</th>\n",
              "      <th></th>\n",
              "      <th></th>\n",
              "      <th></th>\n",
              "      <th></th>\n",
              "      <th></th>\n",
              "    </tr>\n",
              "  </thead>\n",
              "  <tbody>\n",
              "    <tr>\n",
              "      <th>Logistic Regression</th>\n",
              "      <td>0.999933</td>\n",
              "      <td>0.999933</td>\n",
              "      <td>0.999933</td>\n",
              "      <td>0.999933</td>\n",
              "      <td>0.992998</td>\n",
              "    </tr>\n",
              "    <tr>\n",
              "      <th>Decision Tree</th>\n",
              "      <td>0.570733</td>\n",
              "      <td>0.713231</td>\n",
              "      <td>0.570733</td>\n",
              "      <td>0.520612</td>\n",
              "      <td>0.517733</td>\n",
              "    </tr>\n",
              "    <tr>\n",
              "      <th>Random Forest</th>\n",
              "      <td>0.495867</td>\n",
              "      <td>0.794503</td>\n",
              "      <td>0.495867</td>\n",
              "      <td>0.537461</td>\n",
              "      <td>0.522620</td>\n",
              "    </tr>\n",
              "    <tr>\n",
              "      <th>Naive_Bayes</th>\n",
              "      <td>0.998600</td>\n",
              "      <td>0.998602</td>\n",
              "      <td>0.998600</td>\n",
              "      <td>0.998599</td>\n",
              "      <td>0.996598</td>\n",
              "    </tr>\n",
              "    <tr>\n",
              "      <th>Gradient Boosting</th>\n",
              "      <td>0.985600</td>\n",
              "      <td>0.985878</td>\n",
              "      <td>0.985600</td>\n",
              "      <td>0.985645</td>\n",
              "      <td>0.965784</td>\n",
              "    </tr>\n",
              "  </tbody>\n",
              "</table>\n",
              "</div>"
            ],
            "text/plain": [
              "                     Accuracy  Precision    Recall  F1 Train   F1 Test\n",
              "Classifier                                                            \n",
              "Logistic Regression  0.999933   0.999933  0.999933  0.999933  0.992998\n",
              "Decision Tree        0.570733   0.713231  0.570733  0.520612  0.517733\n",
              "Random Forest        0.495867   0.794503  0.495867  0.537461  0.522620\n",
              "Naive_Bayes          0.998600   0.998602  0.998600  0.998599  0.996598\n",
              "Gradient Boosting    0.985600   0.985878  0.985600  0.985645  0.965784"
            ]
          },
          "metadata": {
            "tags": []
          },
          "execution_count": 26
        }
      ]
    },
    {
      "cell_type": "markdown",
      "metadata": {
        "id": "3Ds9AIXZ_Iis"
      },
      "source": [
        "### Deeper analysis of SVMs"
      ]
    },
    {
      "cell_type": "code",
      "metadata": {
        "id": "SOsu7tYH_M_K"
      },
      "source": [
        "vect = CountVectorizer(stop_words='english', max_features=20000, ngram_range=(1,3))"
      ],
      "execution_count": null,
      "outputs": []
    },
    {
      "cell_type": "code",
      "metadata": {
        "id": "X1QA6-po_4xh"
      },
      "source": [
        "X = vect.fit_transform(df_train['no_punctuation']).toarray()"
      ],
      "execution_count": null,
      "outputs": []
    },
    {
      "cell_type": "code",
      "metadata": {
        "colab": {
          "base_uri": "https://localhost:8080/"
        },
        "id": "IeX0swh2AIsg",
        "outputId": "704b7f59-fa7b-4533-fecb-98cda69d5594"
      },
      "source": [
        "y = le.fit_transform(df_train['lang_id'])\n",
        "y"
      ],
      "execution_count": null,
      "outputs": [
        {
          "output_type": "execute_result",
          "data": {
            "text/plain": [
              "array([9, 9, 1, ..., 1, 9, 4])"
            ]
          },
          "metadata": {
            "tags": []
          },
          "execution_count": 24
        }
      ]
    },
    {
      "cell_type": "code",
      "metadata": {
        "id": "MGYFZwbi76qN"
      },
      "source": [
        "svm = SVC()"
      ],
      "execution_count": null,
      "outputs": []
    },
    {
      "cell_type": "code",
      "metadata": {
        "id": "SERegQ_s8n0m"
      },
      "source": [
        "X_train, X_test, y_train, y_test = train_test_split(X[: 5000], y[: 5000], test_size=0.25, random_state=42)"
      ],
      "execution_count": null,
      "outputs": []
    },
    {
      "cell_type": "code",
      "metadata": {
        "colab": {
          "background_save": true
        },
        "id": "xCZgcqzT9X2B",
        "outputId": "23a2d1a1-2e69-49a9-e13c-eae55ef8087e"
      },
      "source": [
        "svm.fit(X_train, y_train)"
      ],
      "execution_count": null,
      "outputs": [
        {
          "output_type": "execute_result",
          "data": {
            "text/plain": [
              "SVC(C=1.0, break_ties=False, cache_size=200, class_weight=None, coef0=0.0,\n",
              "    decision_function_shape='ovr', degree=3, gamma='scale', kernel='rbf',\n",
              "    max_iter=-1, probability=False, random_state=None, shrinking=True,\n",
              "    tol=0.001, verbose=False)"
            ]
          },
          "metadata": {
            "tags": []
          },
          "execution_count": 0
        }
      ]
    },
    {
      "cell_type": "code",
      "metadata": {
        "id": "UahEBwmH9X5w"
      },
      "source": [
        "y_pred = svm.predict(X_test)"
      ],
      "execution_count": null,
      "outputs": []
    },
    {
      "cell_type": "code",
      "metadata": {
        "colab": {
          "base_uri": "https://localhost:8080/"
        },
        "id": "XkL6rKjc-rA0",
        "outputId": "86fd30d6-1bdb-425f-c162-1857639e0f9e"
      },
      "source": [
        "accuracy_score(y_test, y_pred)"
      ],
      "execution_count": null,
      "outputs": [
        {
          "output_type": "execute_result",
          "data": {
            "text/plain": [
              "0.976"
            ]
          },
          "metadata": {
            "tags": []
          },
          "execution_count": 30
        }
      ]
    },
    {
      "cell_type": "code",
      "metadata": {
        "colab": {
          "base_uri": "https://localhost:8080/"
        },
        "id": "tm8e_HK0-0PL",
        "outputId": "6e4db8d1-d02f-413e-963b-f85e8b4a851a"
      },
      "source": [
        "print(classification_report(y_test, y_pred))"
      ],
      "execution_count": null,
      "outputs": [
        {
          "output_type": "stream",
          "text": [
            "              precision    recall  f1-score   support\n",
            "\n",
            "           0       1.00      0.99      1.00       112\n",
            "           1       0.94      1.00      0.97       117\n",
            "           2       0.97      0.92      0.94       109\n",
            "           3       0.96      1.00      0.98       110\n",
            "           4       1.00      0.97      0.98       125\n",
            "           5       1.00      0.92      0.96       111\n",
            "           6       0.99      0.99      0.99       110\n",
            "           7       1.00      0.98      0.99       119\n",
            "           8       0.98      1.00      0.99       118\n",
            "           9       0.93      0.99      0.96       112\n",
            "          10       0.96      0.97      0.97       107\n",
            "\n",
            "    accuracy                           0.98      1250\n",
            "   macro avg       0.98      0.98      0.98      1250\n",
            "weighted avg       0.98      0.98      0.98      1250\n",
            "\n"
          ],
          "name": "stdout"
        }
      ]
    },
    {
      "cell_type": "code",
      "metadata": {
        "id": "TjhVXHIoN1DV"
      },
      "source": [
        "X_t = vect.transform(df_test['no_punctuation']).toarray()"
      ],
      "execution_count": null,
      "outputs": []
    },
    {
      "cell_type": "code",
      "metadata": {
        "id": "6FCyG2cOODpY"
      },
      "source": [
        "y_pred_t = svm.predict(X_t)"
      ],
      "execution_count": null,
      "outputs": []
    },
    {
      "cell_type": "code",
      "metadata": {
        "id": "4wiCqJVkPVvQ"
      },
      "source": [
        "y_pred_t = le.inverse_transform(y_pred_t)\n",
        "y_pred_t"
      ],
      "execution_count": null,
      "outputs": []
    },
    {
      "cell_type": "code",
      "metadata": {
        "id": "5v_relSEPeUz"
      },
      "source": [
        "submission_svm = pd.DataFrame({\n",
        "    'index': df_test['index'],\n",
        "    'lang_id': y_pred_t\n",
        "})"
      ],
      "execution_count": null,
      "outputs": []
    },
    {
      "cell_type": "code",
      "metadata": {
        "id": "06ZGvIJMRQGE"
      },
      "source": [
        "submission_svm.to_csv('submission_svm.csv', index=False)"
      ],
      "execution_count": null,
      "outputs": []
    },
    {
      "cell_type": "code",
      "metadata": {
        "colab": {
          "base_uri": "https://localhost:8080/",
          "height": 17
        },
        "id": "vwSIdhSbRiEp",
        "outputId": "a6e8638f-87df-4f9d-ae30-025cc71a66fd"
      },
      "source": [
        "files.download('submission_svm.csv')"
      ],
      "execution_count": null,
      "outputs": [
        {
          "output_type": "display_data",
          "data": {
            "application/javascript": [
              "\n",
              "    async function download(id, filename, size) {\n",
              "      if (!google.colab.kernel.accessAllowed) {\n",
              "        return;\n",
              "      }\n",
              "      const div = document.createElement('div');\n",
              "      const label = document.createElement('label');\n",
              "      label.textContent = `Downloading \"${filename}\": `;\n",
              "      div.appendChild(label);\n",
              "      const progress = document.createElement('progress');\n",
              "      progress.max = size;\n",
              "      div.appendChild(progress);\n",
              "      document.body.appendChild(div);\n",
              "\n",
              "      const buffers = [];\n",
              "      let downloaded = 0;\n",
              "\n",
              "      const channel = await google.colab.kernel.comms.open(id);\n",
              "      // Send a message to notify the kernel that we're ready.\n",
              "      channel.send({})\n",
              "\n",
              "      for await (const message of channel.messages) {\n",
              "        // Send a message to notify the kernel that we're ready.\n",
              "        channel.send({})\n",
              "        if (message.buffers) {\n",
              "          for (const buffer of message.buffers) {\n",
              "            buffers.push(buffer);\n",
              "            downloaded += buffer.byteLength;\n",
              "            progress.value = downloaded;\n",
              "          }\n",
              "        }\n",
              "      }\n",
              "      const blob = new Blob(buffers, {type: 'application/binary'});\n",
              "      const a = document.createElement('a');\n",
              "      a.href = window.URL.createObjectURL(blob);\n",
              "      a.download = filename;\n",
              "      div.appendChild(a);\n",
              "      a.click();\n",
              "      div.remove();\n",
              "    }\n",
              "  "
            ],
            "text/plain": [
              "<IPython.core.display.Javascript object>"
            ]
          },
          "metadata": {
            "tags": []
          }
        },
        {
          "output_type": "display_data",
          "data": {
            "application/javascript": [
              "download(\"download_dde2dc1b-6227-4fd2-a9dc-7839e5dd4a91\", \"submission_svm.csv\", 50045)"
            ],
            "text/plain": [
              "<IPython.core.display.Javascript object>"
            ]
          },
          "metadata": {
            "tags": []
          }
        }
      ]
    },
    {
      "cell_type": "markdown",
      "metadata": {
        "id": "H_MIW0nAagFR"
      },
      "source": [
        "### AdaBoost"
      ]
    },
    {
      "cell_type": "code",
      "metadata": {
        "id": "vbp731KxanNL"
      },
      "source": [
        "from sklearn.ensemble import GradientBoostingClassifier\n",
        "\n"
      ],
      "execution_count": null,
      "outputs": []
    },
    {
      "cell_type": "code",
      "metadata": {
        "id": "tD_wo-WOa1SP"
      },
      "source": [
        "vect = CountVectorizer(stop_words='english', max_features=5000, ngram_range=(1,3))"
      ],
      "execution_count": null,
      "outputs": []
    },
    {
      "cell_type": "code",
      "metadata": {
        "id": "2SZbElQEbNTd"
      },
      "source": [
        "X = vect.fit_transform(df_train['no_punctuation']).toarray()"
      ],
      "execution_count": null,
      "outputs": []
    },
    {
      "cell_type": "code",
      "metadata": {
        "colab": {
          "base_uri": "https://localhost:8080/"
        },
        "id": "Eqg0EEdkbViY",
        "outputId": "2c02446a-581c-43cd-e3b0-32b1839f1004"
      },
      "source": [
        "y = le.fit_transform(df_train['lang_id'])\n",
        "y"
      ],
      "execution_count": null,
      "outputs": [
        {
          "output_type": "execute_result",
          "data": {
            "text/plain": [
              "array([9, 9, 1, ..., 1, 9, 4])"
            ]
          },
          "metadata": {
            "tags": []
          },
          "execution_count": 30
        }
      ]
    },
    {
      "cell_type": "code",
      "metadata": {
        "id": "Kb5IpjCNbkOu"
      },
      "source": [
        "X_train, X_test, y_train, y_test = train_test_split(X, y, test_size=0.25, random_state=42)"
      ],
      "execution_count": null,
      "outputs": []
    },
    {
      "cell_type": "code",
      "metadata": {
        "id": "lYAUXjQ7bwdv"
      },
      "source": [
        "gbc = GradientBoostingClassifier()"
      ],
      "execution_count": null,
      "outputs": []
    },
    {
      "cell_type": "code",
      "metadata": {
        "colab": {
          "base_uri": "https://localhost:8080/"
        },
        "id": "Sw2-2jzJb7lC",
        "outputId": "1e287fa8-919c-405b-ffdf-aa18a68a5627"
      },
      "source": [
        "gbc.fit(X[:3300], y[:3300])"
      ],
      "execution_count": null,
      "outputs": [
        {
          "output_type": "execute_result",
          "data": {
            "text/plain": [
              "GradientBoostingClassifier(ccp_alpha=0.0, criterion='friedman_mse', init=None,\n",
              "                           learning_rate=0.1, loss='deviance', max_depth=3,\n",
              "                           max_features=None, max_leaf_nodes=None,\n",
              "                           min_impurity_decrease=0.0, min_impurity_split=None,\n",
              "                           min_samples_leaf=1, min_samples_split=2,\n",
              "                           min_weight_fraction_leaf=0.0, n_estimators=100,\n",
              "                           n_iter_no_change=None, presort='deprecated',\n",
              "                           random_state=None, subsample=1.0, tol=0.0001,\n",
              "                           validation_fraction=0.1, verbose=0,\n",
              "                           warm_start=False)"
            ]
          },
          "metadata": {
            "tags": []
          },
          "execution_count": 33
        }
      ]
    },
    {
      "cell_type": "code",
      "metadata": {
        "id": "3XpkW507c2wc"
      },
      "source": [
        "y_pred = gbc.predict(X_test)"
      ],
      "execution_count": null,
      "outputs": []
    },
    {
      "cell_type": "code",
      "metadata": {
        "colab": {
          "base_uri": "https://localhost:8080/"
        },
        "id": "ftOcyu6Hc7jj",
        "outputId": "8de53a6c-ae61-486e-aabf-b5627ed0b8b8"
      },
      "source": [
        "accuracy_score(y_test, y_pred)"
      ],
      "execution_count": null,
      "outputs": [
        {
          "output_type": "execute_result",
          "data": {
            "text/plain": [
              "0.9353939393939394"
            ]
          },
          "metadata": {
            "tags": []
          },
          "execution_count": 35
        }
      ]
    },
    {
      "cell_type": "markdown",
      "metadata": {
        "id": "n0HCvPa0soYD"
      },
      "source": [
        "# SUBMISSION PREDICTIONS"
      ]
    },
    {
      "cell_type": "markdown",
      "metadata": {
        "id": "r6SFemrhsobD"
      },
      "source": [
        ""
      ]
    }
  ]
}